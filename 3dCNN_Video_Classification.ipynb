{
  "cells": [
    {
      "cell_type": "markdown",
      "metadata": {
        "id": "view-in-github",
        "colab_type": "text"
      },
      "source": [
        "<a href=\"https://colab.research.google.com/github/saquibali7/VideoClassification/blob/main/3dCNN_Video_Classification.ipynb\" target=\"_parent\"><img src=\"https://colab.research.google.com/assets/colab-badge.svg\" alt=\"Open In Colab\"/></a>"
      ]
    },
    {
      "cell_type": "code",
      "execution_count": 1,
      "metadata": {
        "id": "5K5nOis4bbkH"
      },
      "outputs": [],
      "source": [
        "import os\n",
        "import numpy as np\n",
        "import pandas as pd\n",
        "import matplotlib.pyplot as plt\n",
        "import cv2"
      ]
    },
    {
      "cell_type": "code",
      "execution_count": 2,
      "metadata": {
        "colab": {
          "base_uri": "https://localhost:8080/"
        },
        "id": "ufh_RGfAb1Qi",
        "outputId": "f6de2f67-a112-4a46-e2ad-f34782093013"
      },
      "outputs": [
        {
          "output_type": "stream",
          "name": "stdout",
          "text": [
            "Drive already mounted at /content/drive; to attempt to forcibly remount, call drive.mount(\"/content/drive\", force_remount=True).\n"
          ]
        }
      ],
      "source": [
        "from google.colab import drive\n",
        "drive.mount('/content/drive')"
      ]
    },
    {
      "cell_type": "markdown",
      "metadata": {
        "id": "J3d6JLYNRf3W"
      },
      "source": [
        "## Data Loading"
      ]
    },
    {
      "cell_type": "code",
      "execution_count": 3,
      "metadata": {
        "colab": {
          "base_uri": "https://localhost:8080/"
        },
        "id": "STcJrxEJb8jY",
        "outputId": "5c7856d9-b924-429c-b084-e23feddc5446"
      },
      "outputs": [
        {
          "output_type": "stream",
          "name": "stdout",
          "text": [
            "111\n"
          ]
        }
      ],
      "source": [
        "data_path = '/content/drive/MyDrive/Set1'\n",
        "data = os.listdir(data_path)\n",
        "print(len(data))"
      ]
    },
    {
      "cell_type": "code",
      "execution_count": 4,
      "metadata": {
        "id": "vKKRTZbVcQGb"
      },
      "outputs": [],
      "source": [
        "def return_frames(idx):\n",
        "  frames = list()\n",
        "  cap = cv2.VideoCapture(os.path.join(data_path,data[idx]))\n",
        "  while(cap.isOpened()):\n",
        "    ret, frame = cap.read()\n",
        "    try:\n",
        "      img = cv2.resize(frame, (256,256))\n",
        "      frames.append(img)\n",
        "    except:\n",
        "      break\n",
        "    if cv2.waitKey(1) & 0xFF == ord('q'):\n",
        "      break\n",
        "\n",
        "  cap.release()\n",
        "  cv2.destroyAllWindows() \n",
        "  frames = np.array(frames)\n",
        "  return frames"
      ]
    },
    {
      "cell_type": "code",
      "execution_count": 5,
      "metadata": {
        "id": "IVvg91STctbe",
        "colab": {
          "base_uri": "https://localhost:8080/",
          "height": 206
        },
        "outputId": "d1a8865e-ab15-4634-9c0e-ef95d6f3eeeb"
      },
      "outputs": [
        {
          "output_type": "execute_result",
          "data": {
            "text/plain": [
              "                  Video_Id   Outcome\n",
              "0  D2014.09.23_S0180_I4274    Freeze\n",
              "1  D2014.09.23_S0180_I4277    Freeze\n",
              "2  D2014.11.28_S0311_I4262  Transfer\n",
              "3  D2015.01.22_S0337_I4261  Transfer\n",
              "4  D2015.01.22_S0337_I4264    Freeze"
            ],
            "text/html": [
              "\n",
              "  <div id=\"df-4a952edb-02f3-4b5c-b3f0-0500faac2087\">\n",
              "    <div class=\"colab-df-container\">\n",
              "      <div>\n",
              "<style scoped>\n",
              "    .dataframe tbody tr th:only-of-type {\n",
              "        vertical-align: middle;\n",
              "    }\n",
              "\n",
              "    .dataframe tbody tr th {\n",
              "        vertical-align: top;\n",
              "    }\n",
              "\n",
              "    .dataframe thead th {\n",
              "        text-align: right;\n",
              "    }\n",
              "</style>\n",
              "<table border=\"1\" class=\"dataframe\">\n",
              "  <thead>\n",
              "    <tr style=\"text-align: right;\">\n",
              "      <th></th>\n",
              "      <th>Video_Id</th>\n",
              "      <th>Outcome</th>\n",
              "    </tr>\n",
              "  </thead>\n",
              "  <tbody>\n",
              "    <tr>\n",
              "      <th>0</th>\n",
              "      <td>D2014.09.23_S0180_I4274</td>\n",
              "      <td>Freeze</td>\n",
              "    </tr>\n",
              "    <tr>\n",
              "      <th>1</th>\n",
              "      <td>D2014.09.23_S0180_I4277</td>\n",
              "      <td>Freeze</td>\n",
              "    </tr>\n",
              "    <tr>\n",
              "      <th>2</th>\n",
              "      <td>D2014.11.28_S0311_I4262</td>\n",
              "      <td>Transfer</td>\n",
              "    </tr>\n",
              "    <tr>\n",
              "      <th>3</th>\n",
              "      <td>D2015.01.22_S0337_I4261</td>\n",
              "      <td>Transfer</td>\n",
              "    </tr>\n",
              "    <tr>\n",
              "      <th>4</th>\n",
              "      <td>D2015.01.22_S0337_I4264</td>\n",
              "      <td>Freeze</td>\n",
              "    </tr>\n",
              "  </tbody>\n",
              "</table>\n",
              "</div>\n",
              "      <button class=\"colab-df-convert\" onclick=\"convertToInteractive('df-4a952edb-02f3-4b5c-b3f0-0500faac2087')\"\n",
              "              title=\"Convert this dataframe to an interactive table.\"\n",
              "              style=\"display:none;\">\n",
              "        \n",
              "  <svg xmlns=\"http://www.w3.org/2000/svg\" height=\"24px\"viewBox=\"0 0 24 24\"\n",
              "       width=\"24px\">\n",
              "    <path d=\"M0 0h24v24H0V0z\" fill=\"none\"/>\n",
              "    <path d=\"M18.56 5.44l.94 2.06.94-2.06 2.06-.94-2.06-.94-.94-2.06-.94 2.06-2.06.94zm-11 1L8.5 8.5l.94-2.06 2.06-.94-2.06-.94L8.5 2.5l-.94 2.06-2.06.94zm10 10l.94 2.06.94-2.06 2.06-.94-2.06-.94-.94-2.06-.94 2.06-2.06.94z\"/><path d=\"M17.41 7.96l-1.37-1.37c-.4-.4-.92-.59-1.43-.59-.52 0-1.04.2-1.43.59L10.3 9.45l-7.72 7.72c-.78.78-.78 2.05 0 2.83L4 21.41c.39.39.9.59 1.41.59.51 0 1.02-.2 1.41-.59l7.78-7.78 2.81-2.81c.8-.78.8-2.07 0-2.86zM5.41 20L4 18.59l7.72-7.72 1.47 1.35L5.41 20z\"/>\n",
              "  </svg>\n",
              "      </button>\n",
              "      \n",
              "  <style>\n",
              "    .colab-df-container {\n",
              "      display:flex;\n",
              "      flex-wrap:wrap;\n",
              "      gap: 12px;\n",
              "    }\n",
              "\n",
              "    .colab-df-convert {\n",
              "      background-color: #E8F0FE;\n",
              "      border: none;\n",
              "      border-radius: 50%;\n",
              "      cursor: pointer;\n",
              "      display: none;\n",
              "      fill: #1967D2;\n",
              "      height: 32px;\n",
              "      padding: 0 0 0 0;\n",
              "      width: 32px;\n",
              "    }\n",
              "\n",
              "    .colab-df-convert:hover {\n",
              "      background-color: #E2EBFA;\n",
              "      box-shadow: 0px 1px 2px rgba(60, 64, 67, 0.3), 0px 1px 3px 1px rgba(60, 64, 67, 0.15);\n",
              "      fill: #174EA6;\n",
              "    }\n",
              "\n",
              "    [theme=dark] .colab-df-convert {\n",
              "      background-color: #3B4455;\n",
              "      fill: #D2E3FC;\n",
              "    }\n",
              "\n",
              "    [theme=dark] .colab-df-convert:hover {\n",
              "      background-color: #434B5C;\n",
              "      box-shadow: 0px 1px 3px 1px rgba(0, 0, 0, 0.15);\n",
              "      filter: drop-shadow(0px 1px 2px rgba(0, 0, 0, 0.3));\n",
              "      fill: #FFFFFF;\n",
              "    }\n",
              "  </style>\n",
              "\n",
              "      <script>\n",
              "        const buttonEl =\n",
              "          document.querySelector('#df-4a952edb-02f3-4b5c-b3f0-0500faac2087 button.colab-df-convert');\n",
              "        buttonEl.style.display =\n",
              "          google.colab.kernel.accessAllowed ? 'block' : 'none';\n",
              "\n",
              "        async function convertToInteractive(key) {\n",
              "          const element = document.querySelector('#df-4a952edb-02f3-4b5c-b3f0-0500faac2087');\n",
              "          const dataTable =\n",
              "            await google.colab.kernel.invokeFunction('convertToInteractive',\n",
              "                                                     [key], {});\n",
              "          if (!dataTable) return;\n",
              "\n",
              "          const docLinkHtml = 'Like what you see? Visit the ' +\n",
              "            '<a target=\"_blank\" href=https://colab.research.google.com/notebooks/data_table.ipynb>data table notebook</a>'\n",
              "            + ' to learn more about interactive tables.';\n",
              "          element.innerHTML = '';\n",
              "          dataTable['output_type'] = 'display_data';\n",
              "          await google.colab.output.renderOutput(dataTable, element);\n",
              "          const docLink = document.createElement('div');\n",
              "          docLink.innerHTML = docLinkHtml;\n",
              "          element.appendChild(docLink);\n",
              "        }\n",
              "      </script>\n",
              "    </div>\n",
              "  </div>\n",
              "  "
            ]
          },
          "metadata": {},
          "execution_count": 5
        }
      ],
      "source": [
        "df = pd.read_excel('/content/drive/MyDrive/ClassLabels.xlsx')\n",
        "df.head()"
      ]
    },
    {
      "cell_type": "code",
      "execution_count": 6,
      "metadata": {
        "id": "c2wS9yviZQaC",
        "colab": {
          "base_uri": "https://localhost:8080/"
        },
        "outputId": "86ef8eb4-aeaf-41b9-faa0-3da67ab49987"
      },
      "outputs": [
        {
          "output_type": "stream",
          "name": "stdout",
          "text": [
            "['Freeze' 'Freeze' 'Transfer' 'Transfer' 'Freeze' 'Freeze' 'Freeze'\n",
            " 'Freeze' 'Freeze' 'Freeze' 'Transfer' 'Transfer' 'Freeze' 'Freeze'\n",
            " 'Transfer' 'Freeze' 'Freeze' 'Transfer' 'Freeze' 'Avoid' 'Transfer'\n",
            " 'Avoid' 'Avoid' 'Freeze' 'Freeze' 'Avoid' 'Transfer' 'Avoid' 'Avoid'\n",
            " 'Freeze' 'Freeze' 'Freeze' 'Transfer' 'Avoid' 'Transfer' 'Freeze' 'Avoid'\n",
            " 'Freeze' 'Avoid' 'Freeze' 'Transfer' 'Avoid' 'Avoid' 'Transfer' 'Freeze'\n",
            " 'Transfer' 'Avoid' 'Freeze' 'Avoid' 'Freeze' 'Transfer' 'Freeze' 'Freeze'\n",
            " 'Freeze' 'Transfer' 'Avoid' 'Freeze' 'Freeze' 'Freeze' 'Freeze' 'Freeze'\n",
            " 'Avoid' 'Freeze' 'Transfer' 'Avoid' 'Transfer' 'Avoid' 'Freeze' 'Avoid'\n",
            " 'Avoid' 'Transfer' 'Transfer' 'Freeze' 'Avoid' 'Avoid' 'Transfer' 'Avoid'\n",
            " 'Transfer' 'Freeze' 'Freeze' 'Avoid' 'Freeze' 'Freeze' 'Avoid' 'Transfer'\n",
            " 'Transfer' 'Avoid' 'Freeze' 'Transfer' 'Freeze' 'Transfer' 'Freeze'\n",
            " 'Freeze' 'Freeze' 'Avoid' 'Transfer' 'Transfer' 'Avoid' 'Avoid' 'Freeze'\n",
            " 'Transfer' 'Transfer' 'Freeze' 'Avoid' 'Transfer' 'Transfer' 'Avoid'\n",
            " 'Freeze' 'Freeze' 'Transfer' 'Transfer']\n"
          ]
        }
      ],
      "source": [
        "print(df['Outcome'].values)"
      ]
    },
    {
      "cell_type": "code",
      "execution_count": 7,
      "metadata": {
        "colab": {
          "base_uri": "https://localhost:8080/"
        },
        "id": "pdkmHQQddHT4",
        "outputId": "4d449ae1-2bbd-4c6c-bfde-112803296e68"
      },
      "outputs": [
        {
          "output_type": "stream",
          "name": "stdout",
          "text": [
            "Transfer 1\n"
          ]
        }
      ],
      "source": [
        "import random\n",
        "classes = ['Avoid', 'Transfer','Freeze']\n",
        "idx = random.randint(0,len(data))\n",
        "video_id = data[idx][0:len(data[idx])-4]\n",
        "row_id = df.index[df['Video_Id']==video_id]\n",
        "class_name = df['Outcome'][row_id].item()\n",
        "print(class_name,classes.index(class_name))"
      ]
    },
    {
      "cell_type": "markdown",
      "metadata": {
        "id": "6b80aYCuTLwi"
      },
      "source": [
        "## Model Architecture"
      ]
    },
    {
      "cell_type": "markdown",
      "metadata": {
        "id": "5jHaD8qrRl_f"
      },
      "source": []
    },
    {
      "cell_type": "code",
      "execution_count": 8,
      "metadata": {
        "colab": {
          "base_uri": "https://localhost:8080/"
        },
        "id": "Y64YGNCNT9DW",
        "outputId": "de3ef888-bdc4-4f2e-a36b-40d38ccc9883"
      },
      "outputs": [
        {
          "output_type": "stream",
          "name": "stdout",
          "text": [
            "Looking in indexes: https://pypi.org/simple, https://us-python.pkg.dev/colab-wheels/public/simple/\n",
            "Requirement already satisfied: remotezip in /usr/local/lib/python3.7/dist-packages (0.10.0)\n",
            "Requirement already satisfied: tqdm in /usr/local/lib/python3.7/dist-packages (4.64.1)\n",
            "Requirement already satisfied: opencv-python in /usr/local/lib/python3.7/dist-packages (4.6.0.66)\n",
            "Requirement already satisfied: einops in /usr/local/lib/python3.7/dist-packages (0.6.0)\n",
            "Requirement already satisfied: tabulate in /usr/local/lib/python3.7/dist-packages (from remotezip) (0.8.10)\n",
            "Requirement already satisfied: requests in /usr/local/lib/python3.7/dist-packages (from remotezip) (2.23.0)\n",
            "Requirement already satisfied: numpy>=1.14.5 in /usr/local/lib/python3.7/dist-packages (from opencv-python) (1.21.6)\n",
            "Requirement already satisfied: idna<3,>=2.5 in /usr/local/lib/python3.7/dist-packages (from requests->remotezip) (2.10)\n",
            "Requirement already satisfied: urllib3!=1.25.0,!=1.25.1,<1.26,>=1.21.1 in /usr/local/lib/python3.7/dist-packages (from requests->remotezip) (1.24.3)\n",
            "Requirement already satisfied: certifi>=2017.4.17 in /usr/local/lib/python3.7/dist-packages (from requests->remotezip) (2022.9.24)\n",
            "Requirement already satisfied: chardet<4,>=3.0.2 in /usr/local/lib/python3.7/dist-packages (from requests->remotezip) (3.0.4)\n"
          ]
        }
      ],
      "source": [
        "!pip install remotezip tqdm opencv-python einops"
      ]
    },
    {
      "cell_type": "code",
      "execution_count": 9,
      "metadata": {
        "id": "fk_E9RIf2ohN"
      },
      "outputs": [],
      "source": [
        "import tqdm\n",
        "import random\n",
        "import pathlib\n",
        "import itertools\n",
        "import collections\n",
        "\n",
        "import einops\n",
        "import remotezip as rz\n",
        "import seaborn as sns\n",
        "\n",
        "import tensorflow as tf\n",
        "import keras\n",
        "from keras import layers\n",
        "from keras.models import Sequential"
      ]
    },
    {
      "cell_type": "code",
      "execution_count": 10,
      "metadata": {
        "id": "6lQTi0S7LEDf"
      },
      "outputs": [],
      "source": [
        "HEIGHT = 256\n",
        "WIDTH = 256"
      ]
    },
    {
      "cell_type": "code",
      "execution_count": 11,
      "metadata": {
        "id": "isEOTav0r4WC"
      },
      "outputs": [],
      "source": [
        "class conv_blocks(keras.layers.Layer):\n",
        "  def __init__(self, filters, kernel_size, padding):\n",
        "    super().__init__()\n",
        "    self.layer1 = layers.Conv3D(filters=filters,kernel_size=(1, kernel_size[1], kernel_size[2]),\n",
        "                                padding=padding)\n",
        "    self.layer2 = layers.Conv3D(filters=filters, kernel_size=(kernel_size[0], 1, 1),\n",
        "                                padding=padding)\n",
        "    \n",
        "  def call(self, x):\n",
        "    x = self.layer1(x)\n",
        "    x = self.layer2(x)\n",
        "    return x"
      ]
    },
    {
      "cell_type": "code",
      "execution_count": 12,
      "metadata": {
        "id": "a2Iv3NDKdP0m"
      },
      "outputs": [],
      "source": [
        "class Project(keras.layers.Layer):\n",
        "  def __init__(self, units):\n",
        "    super().__init__()\n",
        "    self.layer1 = layers.Dense(units)\n",
        "    self.layer2 = layers.LayerNormalization()\n",
        "\n",
        "  def call(self, x):\n",
        "    x = self.layer1(x)\n",
        "    x = self.layer2(x)\n",
        "    return x"
      ]
    },
    {
      "cell_type": "code",
      "execution_count": 13,
      "metadata": {
        "id": "gqIvNuh33GSq"
      },
      "outputs": [],
      "source": [
        "class ResidualMain(keras.layers.Layer):\n",
        "  def __init__(self, filters, kernel_size):\n",
        "    super().__init__()\n",
        "    self.layer1 = conv_blocks(filters=filters,kernel_size=kernel_size,padding='same')\n",
        "    self.layer2 = layers.LayerNormalization()\n",
        "    self.layer3 = layers.ReLU()\n",
        "    self.layer4 = conv_blocks(filters=filters, kernel_size=kernel_size,padding='same')\n",
        "    self.layer5 = layers.LayerNormalization()\n",
        "\n",
        "\n",
        "  def call(self, x):\n",
        "    x = self.layer1(x)\n",
        "    x = self.layer2(x)\n",
        "    x = self.layer3(x)\n",
        "    x = self.layer4(x)\n",
        "    x = self.layer5(x)\n",
        "    return x"
      ]
    },
    {
      "cell_type": "code",
      "execution_count": 14,
      "metadata": {
        "id": "CzLR3vWj3YG4"
      },
      "outputs": [],
      "source": [
        "def add_residual_block(input, filters, kernel_size):\n",
        "  out = ResidualMain(filters, kernel_size)(input)\n",
        "\n",
        "  res = input\n",
        "  if out.shape[-1] != input.shape[-1]:\n",
        "    res = Project(out.shape[-1])(res)\n",
        "\n",
        "  return layers.add([res, out])"
      ]
    },
    {
      "cell_type": "code",
      "execution_count": 15,
      "metadata": {
        "id": "tEl-Gfcw3Z59"
      },
      "outputs": [],
      "source": [
        "\n",
        "class ResizeVideo(keras.layers.Layer):\n",
        "  def __init__(self, height, width):\n",
        "    super().__init__()\n",
        "    self.height = height\n",
        "    self.width = width\n",
        "    self.resizing_layer = layers.Resizing(self.height, self.width)\n",
        "\n",
        "  def call(self, video):\n",
        "    old_shape = einops.parse_shape(video, 'b t h w c')\n",
        "    images = einops.rearrange(video, 'b t h w c -> (b t) h w c')\n",
        "    images = self.resizing_layer(images)\n",
        "    videos = einops.rearrange(\n",
        "        images, '(b t) h w c -> b t h w c',\n",
        "        t = old_shape['t'])\n",
        "    return videos"
      ]
    },
    {
      "cell_type": "code",
      "execution_count": 20,
      "metadata": {
        "id": "JWaUXtkX3b8V"
      },
      "outputs": [],
      "source": [
        "input_shape = (None, 25, HEIGHT, WIDTH, 3)\n",
        "input = layers.Input(shape=(input_shape[1:]))\n",
        "x = input\n",
        "\n",
        "\n",
        "\n",
        "x = conv_blocks(filters=16, kernel_size=(3, 7, 7), padding='same')(x)\n",
        "x = layers.BatchNormalization()(x)\n",
        "x = layers.ReLU()(x)\n",
        "x = ResizeVideo(HEIGHT // 2, WIDTH // 2)(x)\n",
        "\n",
        "# Block 1\n",
        "x = add_residual_block(x, 16, (3, 3, 3))\n",
        "x = ResizeVideo(HEIGHT // 4, WIDTH // 4)(x)\n",
        "\n",
        "# Block 2\n",
        "x = add_residual_block(x, 32, (3, 3, 3))\n",
        "x = ResizeVideo(HEIGHT // 8, WIDTH // 8)(x)\n",
        "\n",
        "# Block 3\n",
        "x = add_residual_block(x, 64, (3, 3, 3))\n",
        "x = ResizeVideo(HEIGHT // 16, WIDTH // 16)(x)\n",
        "\n",
        "# Block 4\n",
        "x = add_residual_block(x, 128, (3, 3, 3))\n",
        "\n",
        "x = layers.GlobalAveragePooling3D()(x)\n",
        "x = layers.Flatten()(x)\n",
        "x = layers.Dense(3)(x)\n",
        "x = layers.Softmax()(x)\n",
        "\n",
        "model = keras.Model(input, x)\n",
        "idx = random.randint(0,len(data))\n",
        "frames = return_frames(idx)\n",
        "model.build(frames[0:25])\n",
        "\n"
      ]
    },
    {
      "cell_type": "code",
      "execution_count": 21,
      "metadata": {
        "id": "qof8dvFIjSEw"
      },
      "outputs": [],
      "source": [
        "model.compile(loss = keras.losses.SparseCategoricalCrossentropy(from_logits=False), \n",
        "              optimizer = tf.keras.optimizers.Adam(learning_rate = 0.0001),\n",
        "              metrics = ['accuracy'])"
      ]
    },
    {
      "cell_type": "code",
      "execution_count": 22,
      "metadata": {
        "colab": {
          "base_uri": "https://localhost:8080/"
        },
        "id": "8hkoeULJlQib",
        "outputId": "2afb343f-b2a2-4b22-8745-a6ef730aab68"
      },
      "outputs": [
        {
          "output_type": "stream",
          "name": "stdout",
          "text": [
            "Model: \"model_1\"\n",
            "__________________________________________________________________________________________________\n",
            " Layer (type)                   Output Shape         Param #     Connected to                     \n",
            "==================================================================================================\n",
            " input_2 (InputLayer)           [(None, 25, 256, 25  0           []                               \n",
            "                                6, 3)]                                                            \n",
            "                                                                                                  \n",
            " conv_blocks_9 (conv_blocks)    (None, 25, 256, 256  3152        ['input_2[0][0]']                \n",
            "                                , 16)                                                             \n",
            "                                                                                                  \n",
            " batch_normalization_1 (BatchNo  (None, 25, 256, 256  64         ['conv_blocks_9[0][0]']          \n",
            " rmalization)                   , 16)                                                             \n",
            "                                                                                                  \n",
            " re_lu_5 (ReLU)                 (None, 25, 256, 256  0           ['batch_normalization_1[0][0]']  \n",
            "                                , 16)                                                             \n",
            "                                                                                                  \n",
            " resize_video_4 (ResizeVideo)   (None, 25, 128, 128  0           ['re_lu_5[0][0]']                \n",
            "                                , 16)                                                             \n",
            "                                                                                                  \n",
            " residual_main_4 (ResidualMain)  (None, 25, 128, 128  6272       ['resize_video_4[0][0]']         \n",
            "                                , 16)                                                             \n",
            "                                                                                                  \n",
            " add_4 (Add)                    (None, 25, 128, 128  0           ['resize_video_4[0][0]',         \n",
            "                                , 16)                             'residual_main_4[0][0]']        \n",
            "                                                                                                  \n",
            " resize_video_5 (ResizeVideo)   (None, 25, 64, 64,   0           ['add_4[0][0]']                  \n",
            "                                16)                                                               \n",
            "                                                                                                  \n",
            " project_3 (Project)            (None, 25, 64, 64,   608         ['resize_video_5[0][0]']         \n",
            "                                32)                                                               \n",
            "                                                                                                  \n",
            " residual_main_5 (ResidualMain)  (None, 25, 64, 64,   20224      ['resize_video_5[0][0]']         \n",
            "                                32)                                                               \n",
            "                                                                                                  \n",
            " add_5 (Add)                    (None, 25, 64, 64,   0           ['project_3[0][0]',              \n",
            "                                32)                               'residual_main_5[0][0]']        \n",
            "                                                                                                  \n",
            " resize_video_6 (ResizeVideo)   (None, 25, 32, 32,   0           ['add_5[0][0]']                  \n",
            "                                32)                                                               \n",
            "                                                                                                  \n",
            " project_4 (Project)            (None, 25, 32, 32,   2240        ['resize_video_6[0][0]']         \n",
            "                                64)                                                               \n",
            "                                                                                                  \n",
            " residual_main_6 (ResidualMain)  (None, 25, 32, 32,   80384      ['resize_video_6[0][0]']         \n",
            "                                64)                                                               \n",
            "                                                                                                  \n",
            " add_6 (Add)                    (None, 25, 32, 32,   0           ['project_4[0][0]',              \n",
            "                                64)                               'residual_main_6[0][0]']        \n",
            "                                                                                                  \n",
            " resize_video_7 (ResizeVideo)   (None, 25, 16, 16,   0           ['add_6[0][0]']                  \n",
            "                                64)                                                               \n",
            "                                                                                                  \n",
            " project_5 (Project)            (None, 25, 16, 16,   8576        ['resize_video_7[0][0]']         \n",
            "                                128)                                                              \n",
            "                                                                                                  \n",
            " residual_main_7 (ResidualMain)  (None, 25, 16, 16,   320512     ['resize_video_7[0][0]']         \n",
            "                                128)                                                              \n",
            "                                                                                                  \n",
            " add_7 (Add)                    (None, 25, 16, 16,   0           ['project_5[0][0]',              \n",
            "                                128)                              'residual_main_7[0][0]']        \n",
            "                                                                                                  \n",
            " global_average_pooling3d_1 (Gl  (None, 128)         0           ['add_7[0][0]']                  \n",
            " obalAveragePooling3D)                                                                            \n",
            "                                                                                                  \n",
            " flatten_1 (Flatten)            (None, 128)          0           ['global_average_pooling3d_1[0][0\n",
            "                                                                 ]']                              \n",
            "                                                                                                  \n",
            " dense_7 (Dense)                (None, 3)            387         ['flatten_1[0][0]']              \n",
            "                                                                                                  \n",
            " softmax_1 (Softmax)            (None, 3)            0           ['dense_7[0][0]']                \n",
            "                                                                                                  \n",
            "==================================================================================================\n",
            "Total params: 442,419\n",
            "Trainable params: 442,387\n",
            "Non-trainable params: 32\n",
            "__________________________________________________________________________________________________\n"
          ]
        }
      ],
      "source": [
        "model.summary()"
      ]
    },
    {
      "cell_type": "code",
      "execution_count": 23,
      "metadata": {
        "colab": {
          "base_uri": "https://localhost:8080/"
        },
        "id": "LEMWhrMrjm5o",
        "outputId": "1432a29a-a424-4c3a-aff6-f3f67c472284"
      },
      "outputs": [
        {
          "output_type": "stream",
          "name": "stdout",
          "text": [
            "['Avoid', 'Freeze', 'Transfer']\n"
          ]
        }
      ],
      "source": [
        "label_processor = keras.layers.StringLookup(num_oov_indices=0, vocabulary=np.unique(df[\"Outcome\"]))\n",
        "print(label_processor.get_vocabulary())\n"
      ]
    },
    {
      "cell_type": "markdown",
      "metadata": {
        "id": "7HkD7YQzI3pm"
      },
      "source": [
        "## Testing"
      ]
    },
    {
      "cell_type": "code",
      "execution_count": 24,
      "metadata": {
        "id": "Cub5x9X4m4wl"
      },
      "outputs": [],
      "source": [
        "flip = tf.keras.layers.RandomFlip(\"horizontal_and_vertical\") # or \"horizontal\", \"vertical\"\n",
        "rotate = tf.keras.layers.RandomRotation(0.2)\n",
        "translation = tf.keras.layers.RandomTranslation(height_factor=0.2, width_factor=0.2)"
      ]
    },
    {
      "cell_type": "code",
      "execution_count": 25,
      "metadata": {
        "id": "xh2rANCknEi1"
      },
      "outputs": [],
      "source": [
        "labels = list()\n",
        "train_x = list()\n",
        "for idx in range(len(data)):\n",
        "  frames = return_frames(idx)\n",
        "  temp1 = []\n",
        "  temp2 = []\n",
        "  for i in range(25):\n",
        "    temp1.append(flip(frames[i]));\n",
        "  for i in range(25):\n",
        "    temp2.append(flip(frames[i+25]))  \n",
        "  train_x.append(frames[0:25])\n",
        "  train_x.append(temp1)\n",
        "  train_x.append(frames[25:50])\n",
        "  train_x.append(temp2)\n",
        "\n",
        "\n",
        "  video_id = data[idx][0:len(data[idx])-4]\n",
        "  row_id = df.index[df['Video_Id']==video_id]\n",
        "  class_name = df['Outcome'][row_id].item()\n",
        "  for i in range(4):\n",
        "    labels.append(class_name)  "
      ]
    },
    {
      "cell_type": "code",
      "source": [
        "train_x = np.array(train_x)\n",
        "train_x.shape"
      ],
      "metadata": {
        "colab": {
          "base_uri": "https://localhost:8080/"
        },
        "id": "WH9AQsfl2OkA",
        "outputId": "9b91c9ab-3b7e-43a9-eaf9-aba3c8729bc0"
      },
      "execution_count": 26,
      "outputs": [
        {
          "output_type": "execute_result",
          "data": {
            "text/plain": [
              "(444, 25, 256, 256, 3)"
            ]
          },
          "metadata": {},
          "execution_count": 26
        }
      ]
    },
    {
      "cell_type": "code",
      "source": [
        "train_x = (train_x/255.0).astype(np.float16)"
      ],
      "metadata": {
        "id": "L8syar2l11BP"
      },
      "execution_count": 27,
      "outputs": []
    },
    {
      "cell_type": "code",
      "execution_count": 28,
      "metadata": {
        "colab": {
          "base_uri": "https://localhost:8080/"
        },
        "id": "Qx5EY17FrW8C",
        "outputId": "d0cb6f3f-0139-43e9-c310-0bc1041205f0"
      },
      "outputs": [
        {
          "output_type": "stream",
          "name": "stdout",
          "text": [
            "444\n",
            "444\n"
          ]
        }
      ],
      "source": [
        "print(len(train_x))\n",
        "print(len(labels))\n",
        "labels = np.array(labels)\n",
        "labels = label_processor(labels[..., None]).numpy()"
      ]
    },
    {
      "cell_type": "code",
      "execution_count": 29,
      "metadata": {
        "id": "G2HSXczKJat7"
      },
      "outputs": [],
      "source": [
        "temp = list(zip(train_x, labels))\n",
        "random.shuffle(temp)\n",
        "res1, res2 = zip(*temp)\n",
        "res1 , res2 = list(res1), list(res2)\n",
        "train_x , train_y = np.array(res1), np.array(res2)\n"
      ]
    },
    {
      "cell_type": "code",
      "execution_count": 30,
      "metadata": {
        "colab": {
          "base_uri": "https://localhost:8080/"
        },
        "id": "G-uArPb4vueo",
        "outputId": "1f41d2e7-a239-4b67-f88f-66e4af0eff6d"
      },
      "outputs": [
        {
          "output_type": "stream",
          "name": "stdout",
          "text": [
            "(444, 1) (444, 25, 256, 256, 3)\n"
          ]
        }
      ],
      "source": [
        "print(train_y.shape,train_x.shape)"
      ]
    },
    {
      "cell_type": "code",
      "execution_count": 31,
      "metadata": {
        "colab": {
          "base_uri": "https://localhost:8080/",
          "height": 286
        },
        "id": "n_7WCI6_oxvq",
        "outputId": "41637037-9cb6-43b3-9687-21e72a19f841"
      },
      "outputs": [
        {
          "output_type": "execute_result",
          "data": {
            "text/plain": [
              "<matplotlib.image.AxesImage at 0x7f4b94548790>"
            ]
          },
          "metadata": {},
          "execution_count": 31
        },
        {
          "output_type": "display_data",
          "data": {
            "text/plain": [
              "<Figure size 432x288 with 1 Axes>"
            ],
            "image/png": "[encoded data removed]"
          },
          "metadata": {
            "needs_background": "light"
          }
        }
      ],
      "source": [
        "idx = random.randint(0,len(train_x))\n",
        "idx1 = random.randint(0,len(train_x[idx]))\n",
        "plt.imshow(train_x[idx][idx1].astype(np.float32))"
      ]
    },
    {
      "cell_type": "code",
      "execution_count": 32,
      "metadata": {
        "colab": {
          "base_uri": "https://localhost:8080/"
        },
        "id": "UIRNUrdmK3BY",
        "outputId": "e142c55f-6340-4ad1-8383-dfc9933addb8"
      },
      "outputs": [
        {
          "output_type": "stream",
          "name": "stdout",
          "text": [
            "Epoch 1/10\n",
            "89/89 [==============================] - 99s 942ms/step - loss: 1.2844 - accuracy: 0.3775 - val_loss: 1.4058 - val_accuracy: 0.3820\n",
            "Epoch 2/10\n",
            "89/89 [==============================] - 75s 849ms/step - loss: 1.1283 - accuracy: 0.4225 - val_loss: 1.1555 - val_accuracy: 0.3708\n",
            "Epoch 3/10\n",
            "89/89 [==============================] - 75s 849ms/step - loss: 1.0956 - accuracy: 0.4338 - val_loss: 1.1568 - val_accuracy: 0.2809\n",
            "Epoch 4/10\n",
            "89/89 [==============================] - 75s 849ms/step - loss: 1.0670 - accuracy: 0.4507 - val_loss: 1.1466 - val_accuracy: 0.4045\n",
            "Epoch 5/10\n",
            "89/89 [==============================] - 75s 849ms/step - loss: 1.0970 - accuracy: 0.4535 - val_loss: 1.0595 - val_accuracy: 0.3933\n",
            "Epoch 6/10\n",
            "89/89 [==============================] - 75s 849ms/step - loss: 1.0850 - accuracy: 0.4451 - val_loss: 1.0661 - val_accuracy: 0.3483\n",
            "Epoch 7/10\n",
            "89/89 [==============================] - 75s 848ms/step - loss: 1.0395 - accuracy: 0.4732 - val_loss: 1.0039 - val_accuracy: 0.5506\n",
            "Epoch 8/10\n",
            "89/89 [==============================] - 75s 848ms/step - loss: 1.0505 - accuracy: 0.4789 - val_loss: 1.0722 - val_accuracy: 0.3933\n",
            "Epoch 9/10\n",
            "89/89 [==============================] - 75s 849ms/step - loss: 1.0028 - accuracy: 0.4958 - val_loss: 0.9778 - val_accuracy: 0.6067\n",
            "Epoch 10/10\n",
            "89/89 [==============================] - 75s 848ms/step - loss: 1.0690 - accuracy: 0.4563 - val_loss: 1.0435 - val_accuracy: 0.4270\n"
          ]
        }
      ],
      "source": [
        "history = model.fit(train_x,train_y, batch_size=4, epochs = 10, validation_split=0.2)"
      ]
    },
    {
      "cell_type": "code",
      "execution_count": 33,
      "metadata": {
        "colab": {
          "base_uri": "https://localhost:8080/",
          "height": 265
        },
        "id": "BTWgoGaxLLYl",
        "outputId": "b76a15c9-fc93-4508-a64c-4e6a5ea72d4a"
      },
      "outputs": [
        {
          "output_type": "display_data",
          "data": {
            "text/plain": [
              "<Figure size 432x288 with 1 Axes>"
            ],
            "image/png": "[encoded data removed]"
          },
          "metadata": {
            "needs_background": "light"
          }
        }
      ],
      "source": [
        "plt.plot(history.history['loss'])\n",
        "plt.plot(history.history['val_loss'])\n",
        "plt.show()"
      ]
    },
    {
      "cell_type": "code",
      "execution_count": 34,
      "metadata": {
        "id": "bs5XsODPsM41",
        "colab": {
          "base_uri": "https://localhost:8080/",
          "height": 282
        },
        "outputId": "b3bec8f5-12ad-484e-c6b1-bcb07c288270"
      },
      "outputs": [
        {
          "output_type": "execute_result",
          "data": {
            "text/plain": [
              "[<matplotlib.lines.Line2D at 0x7f4b7c4b3190>]"
            ]
          },
          "metadata": {},
          "execution_count": 34
        },
        {
          "output_type": "display_data",
          "data": {
            "text/plain": [
              "<Figure size 432x288 with 1 Axes>"
            ],
            "image/png": "[encoded data removed]"
          },
          "metadata": {
            "needs_background": "light"
          }
        }
      ],
      "source": [
        "plt.plot(history.history['accuracy'])\n",
        "plt.plot(history.history['val_accuracy'])"
      ]
    },
    {
      "cell_type": "code",
      "source": [
        "!mkdir '/content/drive/MyDrive/VideoClassification'"
      ],
      "metadata": {
        "id": "7Skx_4fSgEHl"
      },
      "execution_count": 35,
      "outputs": []
    },
    {
      "cell_type": "code",
      "source": [
        "model.save('/content/drive/MyDrive/VideoClassification')"
      ],
      "metadata": {
        "colab": {
          "base_uri": "https://localhost:8080/"
        },
        "id": "XR3qiTonfok3",
        "outputId": "d12a0e14-b8d0-410a-9390-311a2b4a1b7f"
      },
      "execution_count": 36,
      "outputs": [
        {
          "output_type": "stream",
          "name": "stderr",
          "text": [
            "WARNING:absl:Found untraced functions such as conv3d_18_layer_call_fn, conv3d_18_layer_call_and_return_conditional_losses, _jit_compiled_convolution_op, conv3d_19_layer_call_fn, conv3d_19_layer_call_and_return_conditional_losses while saving (showing 5 of 114). These functions will not be directly callable after loading.\n"
          ]
        }
      ]
    },
    {
      "cell_type": "code",
      "source": [],
      "metadata": {
        "id": "GoocPHaWgNgL"
      },
      "execution_count": null,
      "outputs": []
    }
  ],
  "metadata": {
    "accelerator": "GPU",
    "colab": {
      "machine_shape": "hm",
      "provenance": [],
      "collapsed_sections": [
        "J3d6JLYNRf3W"
      ],
      "authorship_tag": "ABX9TyNjmHFWF1rSlhKmkjpwlgYz",
      "include_colab_link": true
    },
    "gpuClass": "standard",
    "kernelspec": {
      "display_name": "Python 3",
      "name": "python3"
    },
    "language_info": {
      "name": "python"
    }
  },
  "nbformat": 4,
  "nbformat_minor": 0
}